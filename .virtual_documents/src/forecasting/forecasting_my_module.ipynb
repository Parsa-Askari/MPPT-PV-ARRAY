import pandas as pd
import numpy as np
import matplotlib.pyplot as plt
import pvlib
from pvlib.location import Location
from pvlib.modelchain import ModelChain
from pvlib.pvsystem import PVSystem
from pvlib.temperature import TEMPERATURE_MODEL_PARAMETERS


df = pd.read_csv("../Dataset/Nasa Datasets/kerman.csv")
kerman_loc=Location(longitude=57.0788,latitude=30.2830,tz="Iran")





df = df.rename(columns={'YEAR': 'year', 'MO': 'month', 'DY': 'day'})
df["date"]=pd.to_datetime(df[["year","month","day"]])
df['date_iran'] = df['date'].dt.tz_localize('Asia/Tehran',nonexistent='shift_forward')

df


input_df=df[["date_iran","ALLSKY_SFC_SW_DWN","ALLSKY_SFC_SW_DNI","ALLSKY_SFC_SW_DIFF","T2M","WS10M"]].copy()
input_df.set_index("date_iran",drop=True,inplace=True)
# full_idx = pd.date_range(
#     start=input_df.index.min(),
#     end  =input_df.index.max(),
#     freq ='H',
#     tz   ='Asia/Tehran'
# )
# input_df = df.reindex(full_idx)

# input_df=input_df.rename(columns={"ALLSKY_SFC_SW_DWN":"ghi","ALLSKY_SFC_SW_DNI":"dni","ALLSKY_SFC_SW_DIFF":"dhi","T2M":"temp_air","WS10M":"wind_speed"})
# input_df
df_hourly = input_df.resample('h').interpolate(method='time')
df_hourly=df_hourly.rename(columns={"ALLSKY_SFC_SW_DWN":"ghi",
                          "ALLSKY_SFC_SW_DNI":"dni",
                          "ALLSKY_SFC_SW_DIFF":"dhi",
                          "T2M":"temp_air",
                          "WS10M":"wind_speed"})
df_hourly["ghi"]=df_hourly["ghi"]* 1000.0 /24
df_hourly["dni"]=df_hourly["dni"]* 1000.0 /24
df_hourly["dhi"]=df_hourly["dhi"]* 1000.0 /24
df_hourly


sandia_modules = pvlib.pvsystem.retrieve_sam(name="SandiaMod")
cec_inverter = pvlib.pvsystem.retrieve_sam(name="CECInverter") 
temp_params=TEMPERATURE_MODEL_PARAMETERS["sapm"]["open_rack_glass_glass"] 
module = sandia_modules["Canadian_Solar_CS5P_220M___2009_"]
inverter = cec_inverter["ABB__PVI_3_0_OUTD_S_US__208V_"]

system = PVSystem(
    surface_tilt=30,
    surface_azimuth=180,
    module_parameters=module,
    inverter_parameters=inverter,
    temperature_model_parameters=temp_params,
    modules_per_string=1, # increase the number of moduals in EACH string  so total number of moduals = modules_per_string * strings_per_inverter
    strings_per_inverter=1 #increase the number of stings connected to one inverter . this means the number of prallel strings 
    
)
model_chain = ModelChain(system,kerman_loc)


module


model_chain.run_model(df_hourly)


model_chain.results.ac.resample('D').sum().plot()


res_max=model_chain.results.ac.resample('D').max()
res_mean=model_chain.results.ac.resample('D').mean()


res_max.max()


res_mean
