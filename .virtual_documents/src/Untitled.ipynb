import pandas as pd
import pvlib
from pathlib import Path


# 1. Load your dataset (skip NASA POWER header lines)
csv_in  = Path('./Dataset/yazd-POWER_Point_Daily_20240101_20250101_031d79N_054d57E_LST.csv')
csv_out = Path('./Dataset/yazd_with_pvlib_energy.csv')

df = pd.read_csv(csv_in, skiprows=16)


# 2. Parse the date
df['Date'] = pd.to_datetime({
    'year':  df['YEAR'],
    'month': df['MO'],
    'day':   df['DY']
})

# 3. Prepare inputs for PVWatts
# NASA POWER gives ALLSKY_SFC_SW_DWN in kWh/m²/day,
# so convert to an average irradiance in W/m²:
df['ghi_Wm2'] = df['ALLSKY_SFC_SW_DWN'] * 1000.0 / 24.0

# Temperature and wind speed columns (°C and m/s):
df['temp_air']   = df['T2M']    # 2 m air temperature
df['wind_speed'] = df['WS2M']   # 2 m wind speed

# 4. Define your PV module & inverter for PVWatts
# — change these to match your actual hardware!
module_parameters = {
    'pdc0':      365,      # STC power rating [W]
    'gamma_pdc': -0.0038,  # power temperature coefficient [/°C]
}
inverter_parameters = {
    'pdc0':      5000,     # inverter AC capacity [W]
    'eta_inv_nom': 0.96,   # nominal inverter efficiency
}


df


# 5. Estimate DC & AC power
#    pvwatts_dc expects: (ghi [W/m2], temp_air [°C], pdc0, gamma_pdc)
dc_power = pvlib.pvsystem.pvwatts_dc(
    ghi=df['ghi_Wm2'],
    temp_cell=None,     # uses temp_air & wind_speed internally if you pass them
    temp_air=df['temp_air'],
    wind_speed=df['wind_speed'],
    **module_parameters
)


# pvwatts function: (pdc [W], pdc0 [W], eta_inv_nom) → pac [W]
ac_power = pvlib.inverter.pvwatts(
    p_dc=dc_power,
    p_ac0=inverter_parameters['pdc0'],
    eta_inv_nom=inverter_parameters['eta_inv_nom']
)


# 6. Convert to daily energy: W → kWh per day
#    since dc_power & ac_power are average power over 24 h,
#    multiply by 24 and divide by 1000.
df['Energy_kWh_PVLib'] = ac_power * 24.0 / 1000.0

# 7. Save the enriched dataset
df.to_csv(csv_out, index=False)
print(f"Enriched CSV written to {csv_out}")

# Optional: quick look
print(df[['Date', 'ALLSKY_SFC_SW_DWN', 'Energy_kWh_PVLib']].head())
