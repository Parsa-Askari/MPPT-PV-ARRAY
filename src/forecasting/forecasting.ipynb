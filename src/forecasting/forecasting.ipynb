{
 "cells": [
  {
   "cell_type": "code",
   "execution_count": 1,
   "id": "cd8a0885-bbad-4653-8f5e-a49267654f10",
   "metadata": {
    "execution": {
     "iopub.execute_input": "2025-07-25T08:30:56.192717Z",
     "iopub.status.busy": "2025-07-25T08:30:56.191551Z",
     "iopub.status.idle": "2025-07-25T08:30:57.656933Z",
     "shell.execute_reply": "2025-07-25T08:30:57.655462Z",
     "shell.execute_reply.started": "2025-07-25T08:30:56.192616Z"
    }
   },
   "outputs": [],
   "source": [
    "import pandas as pd\n",
    "import pvlib\n",
    "from tqdm.notebook import tqdm\n",
    "from pathlib import Path\n",
    "from pvlib.temperature import TEMPERATURE_MODEL_PARAMETERS\n",
    "import os\n",
    "from pynasapower.get_data import query_power\n",
    "from pynasapower.geometry import point\n",
    "import pandas as pd, datetime"
   ]
  },
  {
   "cell_type": "code",
   "execution_count": 2,
   "id": "ff67ec16-e9ae-4e01-b218-af30f9b18315",
   "metadata": {
    "execution": {
     "iopub.execute_input": "2025-07-25T08:30:57.660522Z",
     "iopub.status.busy": "2025-07-25T08:30:57.659571Z",
     "iopub.status.idle": "2025-07-25T08:30:57.913983Z",
     "shell.execute_reply": "2025-07-25T08:30:57.910892Z",
     "shell.execute_reply.started": "2025-07-25T08:30:57.660426Z"
    }
   },
   "outputs": [],
   "source": [
    "\n",
    "def send_req(points):\n",
    "    df = query_power(\n",
    "        geometry     = points,\n",
    "        start        = datetime.date(2010,1,1),\n",
    "        end          = datetime.date(2025,1,1),\n",
    "        community    = \"re\",\n",
    "        parameters   = params,\n",
    "        temporal_api = \"daily\",\n",
    "        spatial_api  = \"point\",\n",
    "        format       = \"csv\",\n",
    "        to_file      = False,\n",
    "    )\n",
    "    return df\n",
    "    \n",
    "# params=[\"ALLSKY_SFC_SW_DWN\",\"T2M\",\"QV2M\",\"PS\",\"WS10M\",\n",
    "#       \"CLRSKY_SFC_SW_DWN\",\"ALLSKY_SFC_SW_DNI\",\"ALLSKY_SFC_SW_DIFF\"]\n",
    "params=[\"ALLSKY_SFC_SW_DWN\",\"CLRSKY_SFC_SW_DWN\",\"ALLSKY_SFC_SW_DNI\",\"ALLSKY_SFC_SW_DIFF\",\n",
    "        \"ALLSKY_KT\",\"T2M\",\"RH2M\",\"WS10M\",\"CLOUD_AMT_DAY\"]\n",
    "            #lon , lat\n",
    "cords={\n",
    "    'karaj' : point(50.9950, 35.8400, \"EPSG:4326\"),\n",
    "    'ardabil' : point(48.2933, 38.2498, \"EPSG:4326\"),\n",
    "    'bushehr' : point(50.8203, 28.9234, \"EPSG:4326\"),\n",
    "    'shahrekord' : point(50.8650, 32.3150, \"EPSG:4326\"),\n",
    "    'tabriz' : point(46.2919, 38.0850, \"EPSG:4326\"),\n",
    "    'shiraz' : point(52.5837, 29.5918, \"EPSG:4326\"),\n",
    "    'rasht' : point(49.5832, 37.2808, \"EPSG:4326\"),\n",
    "    'gorgan' : point(54.4478, 36.8431, \"EPSG:4326\"),\n",
    "    'hamadan' : point(48.5150, 34.7981, \"EPSG:4326\"),\n",
    "    'bandar_abbas' : point(56.2666, 27.1960, \"EPSG:4326\"),\n",
    "    'ilam' : point(46.4226, 33.6369, \"EPSG:4326\"),\n",
    "    'isfahan' : point(51.6675, 32.6546, \"EPSG:4326\"),\n",
    "    'kerman' : point(57.0788, 30.2830, \"EPSG:4326\"),\n",
    "    'kermanshah' : point(47.0650, 34.3142, \"EPSG:4326\"),\n",
    "    'ahvaz' : point(48.6706, 31.3183, \"EPSG:4326\"),\n",
    "    'yasuj' : point(51.5875, 30.6684, \"EPSG:4326\"),\n",
    "    'sanandaj' : point(47.0028, 35.3098, \"EPSG:4326\"),\n",
    "    'khorramabad' : point(48.3558, 33.4878, \"EPSG:4326\"),\n",
    "    'arak' : point(49.6892, 34.0917, \"EPSG:4326\"),\n",
    "    'sari' : point(53.0601, 36.5633, \"EPSG:4326\"),\n",
    "    'bojnurd' : point(57.3290, 37.4742, \"EPSG:4326\"),\n",
    "    'qazvin' : point(50.0041, 36.2688, \"EPSG:4326\"),\n",
    "    'qom' : point(50.8764, 34.6400, \"EPSG:4326\"),\n",
    "    'mashhad' : point(59.6168, 36.2605, \"EPSG:4326\"),\n",
    "    'semnan' : point(53.3978, 35.5727, \"EPSG:4326\"),\n",
    "    'zahedan' : point(60.8629, 29.4963, \"EPSG:4326\"),\n",
    "    'birjand' : point(59.2211, 32.8663, \"EPSG:4326\"),\n",
    "    'tehran' : point(51.3890, 35.6892, \"EPSG:4326\"),\n",
    "    'urmia' : point(45.0728, 37.5524, \"EPSG:4326\"),\n",
    "    'yazd' : point(54.3569, 31.8974, \"EPSG:4326\"),\n",
    "    'zanjan' : point(48.4787, 36.6736, \"EPSG:4326\")\n",
    "}\n",
    "\n",
    "output_dir=\"../Dataset/Nasa Datasets/\""
   ]
  },
  {
   "cell_type": "code",
   "execution_count": 3,
   "id": "223537a9-eccd-4699-8818-1e41026ef092",
   "metadata": {
    "execution": {
     "iopub.execute_input": "2025-07-25T08:30:57.917786Z",
     "iopub.status.busy": "2025-07-25T08:30:57.916832Z",
     "iopub.status.idle": "2025-07-25T08:30:57.929381Z",
     "shell.execute_reply": "2025-07-25T08:30:57.927108Z",
     "shell.execute_reply.started": "2025-07-25T08:30:57.917658Z"
    },
    "scrolled": true
   },
   "outputs": [],
   "source": [
    "# for city in cords:\n",
    "#     print(city)\n",
    "#     cord=cords[city]\n",
    "#     df=send_req(cord) \n",
    "#     df.to_csv(os.path.join(output_dir,f\"{city}.csv\"),index=False)"
   ]
  },
  {
   "cell_type": "code",
   "execution_count": 4,
   "id": "3370233d-4dfd-45dc-b3cc-3b763627b71c",
   "metadata": {
    "execution": {
     "iopub.execute_input": "2025-07-25T08:30:57.936101Z",
     "iopub.status.busy": "2025-07-25T08:30:57.935280Z",
     "iopub.status.idle": "2025-07-25T08:30:57.971626Z",
     "shell.execute_reply": "2025-07-25T08:30:57.969395Z",
     "shell.execute_reply.started": "2025-07-25T08:30:57.936035Z"
    }
   },
   "outputs": [],
   "source": [
    "# def to_week(day):\n",
    "#     if(day<=7):\n",
    "#         return 1\n",
    "#     if(day>7 and day<=14):\n",
    "#         return 2\n",
    "#     if(day>14 and day<=21):\n",
    "#         return 3\n",
    "#     if(day>21 and day<=28):\n",
    "#         return 4\n",
    "#     if(day>28):\n",
    "#         return 5\n",
    "# for city in cords:\n",
    "#     df=pd.read_csv(os.path.join(output_dir,f\"{city}.csv\"))\n",
    "#     df[\"week\"]=df[\"DY\"].apply(to_week)\n",
    "#     df.to_csv(os.path.join(output_dir,f\"{city}.csv\"),index=False)\n",
    "# df=pd.read_csv(os.path.join(output_dir,\"kerman.csv\"))"
   ]
  },
  {
   "cell_type": "code",
   "execution_count": 5,
   "id": "e1d764ac-1c27-4807-adc7-3f343d0720c8",
   "metadata": {
    "execution": {
     "iopub.execute_input": "2025-07-25T08:30:57.974950Z",
     "iopub.status.busy": "2025-07-25T08:30:57.974173Z",
     "iopub.status.idle": "2025-07-25T08:30:58.142695Z",
     "shell.execute_reply": "2025-07-25T08:30:58.140225Z",
     "shell.execute_reply.started": "2025-07-25T08:30:57.974835Z"
    }
   },
   "outputs": [],
   "source": [
    "def calculate_features(df,week,month):\n",
    "    d=df[(df[\"week\"]==week) & (df[\"MO\"]==month)]\n",
    "    year=df[\"YEAR\"].max()\n",
    "    print(f\"predicted features for the year : {year+1} \\n month : {month} \\n week : {week}\")\n",
    "    display(d.drop(columns=[\"week\",\"MO\",\"YEAR\",\"DY\"]).mean())\n",
    "week=2\n",
    "month=3\n",
    "# calculate_features(df,week,month)"
   ]
  },
  {
   "cell_type": "code",
   "execution_count": 27,
   "id": "969aee39-65f4-4d9d-9dfe-f8e430b6ae80",
   "metadata": {
    "execution": {
     "iopub.execute_input": "2025-07-25T08:44:55.855490Z",
     "iopub.status.busy": "2025-07-25T08:44:55.854579Z",
     "iopub.status.idle": "2025-07-25T08:44:55.882989Z",
     "shell.execute_reply": "2025-07-25T08:44:55.879338Z",
     "shell.execute_reply.started": "2025-07-25T08:44:55.855421Z"
    }
   },
   "outputs": [],
   "source": [
    "selected_pannel=\"aSiMicro03036\"\n",
    "modual_infos=pd.read_csv(\"./simulation prams/module_params_custom_material.csv\",index_col=\"Model\")\n",
    "# temp_infos =pd.read_csv(\"./simulation prams/Temperature_Parameters_for_Each_PV_Model.csv\",index_col=\"Model\",usecols=[\"Model\",\"a\",\"b\",\"deltaT\"])\n",
    "# cec_inverter = pvlib.pvsystem.retrieve_sam(name=\"CECInverter\") \n",
    "\n",
    "# inverter_params =cec_inverter[\"ABB__PVI_3_0_OUTD_S_US__208V_\"]\n",
    "module_params = modual_infos.loc[selected_pannel]\n",
    "# display(module_params)\n",
    "pdc0=module_params.loc[\"Parallel_Strings\"]*module_params.loc[\"Isco\"]*module_params.loc[\"Voco\"]\n",
    "# temp_params=temp_infos.loc[selected_pannel]\n",
    "module_params = {\n",
    "    'gamma_pdc': -0.0038,\n",
    "    'pdc0':pdc0\n",
    "}\n",
    "# module_params = {\n",
    "#     'pdc0':      700, \n",
    "#     'gamma_pdc': -0.0038,\n",
    "# }\n",
    "inverter_params = {\n",
    "    'pdc0': pdc0,\n",
    "    'eta_inv_nom': 0.96\n",
    "}"
   ]
  },
  {
   "cell_type": "code",
   "execution_count": 41,
   "id": "d1cc2f5c-9a53-43b4-9ccc-c84fdd7b795b",
   "metadata": {
    "execution": {
     "iopub.execute_input": "2025-07-25T08:59:40.447485Z",
     "iopub.status.busy": "2025-07-25T08:59:40.446794Z",
     "iopub.status.idle": "2025-07-25T08:59:43.614608Z",
     "shell.execute_reply": "2025-07-25T08:59:43.612939Z",
     "shell.execute_reply.started": "2025-07-25T08:59:40.447431Z"
    }
   },
   "outputs": [
    {
     "data": {
      "application/vnd.jupyter.widget-view+json": {
       "model_id": "bdaeea76bc644b9aabf23a306909c821",
       "version_major": 2,
       "version_minor": 0
      },
      "text/plain": [
       "  0%|          | 0/31 [00:00<?, ?it/s]"
      ]
     },
     "metadata": {},
     "output_type": "display_data"
    },
    {
     "name": "stdout",
     "output_type": "stream",
     "text": [
      "karaj :  926.1914350372288\n",
      "ardabil :  740.1366565333409\n",
      "bushehr :  1001.6902912822868\n",
      "shahrekord :  976.5618609418782\n",
      "tabriz :  833.4744746265841\n",
      "shiraz :  1043.8671219282885\n",
      "rasht :  685.0127727676022\n",
      "gorgan :  852.1336539733356\n",
      "hamadan :  949.5353008637254\n",
      "bandar_abbas :  1022.8616359804583\n",
      "ilam :  968.97846672588\n",
      "isfahan :  1016.9045080802665\n",
      "kerman :  1038.1484163009984\n",
      "kermanshah :  949.2096690430673\n",
      "ahvaz :  981.9230724031092\n",
      "yasuj :  1014.306915843203\n",
      "sanandaj :  949.3276442029609\n",
      "khorramabad :  958.7280372243267\n",
      "arak :  948.7938940986637\n",
      "sari :  773.6868616191827\n",
      "bojnurd :  877.3442282811322\n",
      "qazvin :  797.8346842490422\n",
      "qom :  943.4098311694373\n",
      "mashhad :  903.2299305143637\n",
      "semnan :  921.5630414717657\n",
      "zahedan :  1059.0040739553544\n",
      "birjand :  1015.3237228805253\n",
      "tehran :  917.5002084024715\n",
      "urmia :  883.3131243527921\n",
      "yazd :  1033.4976422328436\n",
      "zanjan :  905.6061044831771\n"
     ]
    }
   ],
   "source": [
    "for city in tqdm(cords):\n",
    "    df=pd.read_csv(os.path.join(output_dir,f\"{city}.csv\"))\n",
    "    input_df=pd.DataFrame()\n",
    "    input_df[\"Date\"] = pd.to_datetime({\n",
    "        'year':  df['YEAR'],\n",
    "        'month': df['MO'],\n",
    "        'day':   df['DY']\n",
    "    })\n",
    "    input_df[\"Date\"]=input_df[\"Date\"].dt.tz_localize('Asia/Tehran',nonexistent='shift_forward')\n",
    "    input_df['ghi_Wm2'] = df['ALLSKY_SFC_SW_DWN'] * 1000.0 /24\n",
    "    input_df['temp_air']   = df['T2M']\n",
    "    input_df['wind_speed'] = df['WS10M']\n",
    "    input_df[\"T2M\"]=df[\"T2M\"]\n",
    "    input_df.set_index(\"Date\",drop=True,inplace=True)\n",
    "    input_df = input_df.resample('h').ffill()\n",
    "    # display(input_df)\n",
    "    dc_power = pvlib.pvsystem.pvwatts_dc(\n",
    "        effective_irradiance=input_df['ghi_Wm2'],\n",
    "        temp_cell=input_df[\"T2M\"],\n",
    "        temp_ref=input_df['temp_air'],\n",
    "        **module_params\n",
    "    )\n",
    "    ac_power = pvlib.inverter.pvwatts(\n",
    "        pdc=dc_power,\n",
    "        pdc0=inverter_params['pdc0'],\n",
    "        eta_inv_nom=inverter_params['eta_inv_nom']\n",
    "    )\n",
    "    input_df[\"P\"]=ac_power.values\n",
    "    df[\"P (W)\"]=input_df.resample('D').sum()[\"P\"].values\n",
    "    # df['P (W)'] = ac_power *24\n",
    "    # df.to_csv(os.path.join(output_dir,f\"{city}.csv\"),index=False)\n",
    "    print(f\"{city} : \",df[\"P (W)\"].mean())\n",
    "    "
   ]
  }
 ],
 "metadata": {
  "kernelspec": {
   "display_name": "AI",
   "language": "python",
   "name": "ai"
  },
  "language_info": {
   "codemirror_mode": {
    "name": "ipython",
    "version": 3
   },
   "file_extension": ".py",
   "mimetype": "text/x-python",
   "name": "python",
   "nbconvert_exporter": "python",
   "pygments_lexer": "ipython3",
   "version": "3.10.12"
  }
 },
 "nbformat": 4,
 "nbformat_minor": 5
}
